{
 "cells": [
  {
   "cell_type": "markdown",
   "metadata": {},
   "source": [
    "# A Project Gutenberg Poetry Corpus: Some Experiments\n",
    "\n",
    "By [Valkyrie Savage](https://valkyriesavage.com) based on work by [Allison Parrish](https://www.decontextualize.com/)"
   ]
  },
  {
   "cell_type": "markdown",
   "metadata": {},
   "source": [
    "This is a collection of stuff. Things I am thinking about:\n",
    "* let's use the \"word find\" feature to choose some scraps of verse to start with\n",
    "* let's use synonyms to do that, as well\n",
    "* how to fill in between selected lines? (try a backwards markov model!)\n",
    "* can we integrate sentiment analysis?\n",
    "* can we integrate meter checking? is that even useful?"
   ]
  },
  {
   "cell_type": "code",
   "execution_count": 1,
   "metadata": {},
   "outputs": [],
   "source": [
    "from poetry_server import *\n",
    "g = GutenbergRhymer()"
   ]
  },
  {
   "cell_type": "code",
   "execution_count": 2,
   "metadata": {},
   "outputs": [
    {
     "name": "stdout",
     "output_type": "stream",
     "text": [
      "Permit me, Julia, now to go away;\n",
      "now. The plant is as inferior to its seed, as, more than\n",
      "From these the congregated troops obey\n",
      "And nothing could be sweeter than\n",
      "\n",
      "This slaughter-house of angry Mars he passed,\n",
      "On amberlucent autumn days.\n",
      "Where gorgeous Tyranny hath thus amassed\n",
      "This said, within her anxious mind she weighs\n",
      "\n",
      "Woman's Temptation (A). _Bertha M. Clay._\n",
      "'Then Lady _Newcome's_ Equipage so neat,\n",
      "Woman's Temptation (A). _Bertha M. Clay._\n",
      "And golden moments, all were lost. The fleet\n",
      "\n",
      "That clay does very well for me.\n",
      "An' for auld airn, the smashed debris\n",
      "\n",
      "\n",
      "\n",
      "~~~\n",
      "\n",
      "the physician almost as a rule.  He is the flower (such as it\n",
      "To pardon this offence, this fault commit\n",
      "But a brake bush or twain:\n",
      "No sulphur, through whose each blew vein\n",
      "Before those ghostly things she knit\n",
      "\n",
      "Was there a tree about which did not know\n",
      "En qui verse l'ennui de l'azur et des eaux\n",
      "The sun, which is esteem'd the god of wit.--COWLEY.\n",
      "Nay, talks of getting Archbishop Howley\n",
      "Là-haut, loin d'ici, dans un ciel nouveau\n",
      "\n",
      "And therebefore the lawless warrior paced\n",
      "Have you not seen shop-painters paste\n",
      "Each beast of chase the mountain forest holds.\n",
      "The Serpent sleeping, in whose mazie foulds\n",
      "The olive from its bottom, have displaced\n",
      "\n",
      "\n",
      "\n"
     ]
    }
   ],
   "source": [
    "# we have our fancy gutenberg thing now, so let's try making some poems!\n",
    "\n",
    "millie_things = [('Mary','Julia'),\n",
    "                 ('plant','seedling','sprout'),\n",
    "                 ('shed','deck','house'),\n",
    "                 ('autumn','fall','October'),\n",
    "                 ('pottery','kiln','clay'),\n",
    "                 ('woman','lady')]\n",
    "\n",
    "environment_things = [('flower','blossom','bloom'),\n",
    "                      ('bush','shrub'),\n",
    "                      ('tree','oak','maple','evergreen','cedar'),\n",
    "                      ('sun','sunlight','sunshine','golden orb'),\n",
    "                      ('hero','warrior','fighter'),\n",
    "                      ('tiger','beast')]\n",
    "\n",
    "print(g.concepts_to_rhyming_scheme(millie_things, scheme=SONNET))\n",
    "print(\"\\n~~~\\n\")\n",
    "print(g.concepts_to_rhyming_scheme(environment_things, scheme=LIMERICK))"
   ]
  },
  {
   "cell_type": "code",
   "execution_count": 19,
   "metadata": {},
   "outputs": [
    {
     "ename": "TypeError",
     "evalue": "'tuple' object does not support item assignment",
     "output_type": "error",
     "traceback": [
      "\u001b[0;31m---------------------------------------------------------------------------\u001b[0m",
      "\u001b[0;31mTypeError\u001b[0m                                 Traceback (most recent call last)",
      "\u001b[0;32m<ipython-input-19-6063b6695597>\u001b[0m in \u001b[0;36m<module>\u001b[0;34m\u001b[0m\n\u001b[1;32m     26\u001b[0m               ('thinking','pondering'),]\n\u001b[1;32m     27\u001b[0m \u001b[0;34m\u001b[0m\u001b[0m\n\u001b[0;32m---> 28\u001b[0;31m \u001b[0mprint\u001b[0m\u001b[0;34m(\u001b[0m\u001b[0mg\u001b[0m\u001b[0;34m.\u001b[0m\u001b[0mconcepts_to_rhyming_scheme_generate\u001b[0m\u001b[0;34m(\u001b[0m\u001b[0mhouse_things\u001b[0m\u001b[0;34m)\u001b[0m\u001b[0;34m.\u001b[0m\u001b[0mreplace\u001b[0m\u001b[0;34m(\u001b[0m\u001b[0;34m\"Joseph\"\u001b[0m\u001b[0;34m,\u001b[0m\u001b[0;34m\"Evan\"\u001b[0m\u001b[0;34m)\u001b[0m\u001b[0;34m.\u001b[0m\u001b[0mreplace\u001b[0m\u001b[0;34m(\u001b[0m\u001b[0;34m\"Emily\"\u001b[0m\u001b[0;34m,\u001b[0m\u001b[0;34m\"Valkyrie\"\u001b[0m\u001b[0;34m)\u001b[0m\u001b[0;34m)\u001b[0m\u001b[0;34m\u001b[0m\u001b[0;34m\u001b[0m\u001b[0m\n\u001b[0m\u001b[1;32m     29\u001b[0m \u001b[0mprint\u001b[0m\u001b[0;34m(\u001b[0m\u001b[0;34m\"\\n~~~~\\n\"\u001b[0m\u001b[0;34m)\u001b[0m\u001b[0;34m\u001b[0m\u001b[0;34m\u001b[0m\u001b[0m\n\u001b[1;32m     30\u001b[0m \u001b[0mprint\u001b[0m\u001b[0;34m(\u001b[0m\u001b[0mg\u001b[0m\u001b[0;34m.\u001b[0m\u001b[0mconcepts_to_rhyming_scheme_generate\u001b[0m\u001b[0;34m(\u001b[0m\u001b[0mmom_things\u001b[0m\u001b[0;34m)\u001b[0m\u001b[0;34m)\u001b[0m\u001b[0;34m\u001b[0m\u001b[0;34m\u001b[0m\u001b[0m\n",
      "\u001b[0;32m~/projects/bardy mcbardface/poetry_server.py\u001b[0m in \u001b[0;36mconcepts_to_rhyming_scheme_generate\u001b[0;34m(self, concept_list, scheme)\u001b[0m\n\u001b[1;32m    180\u001b[0m                 \u001b[0;31m# how many lines do we need to rhyme with this?\u001b[0m\u001b[0;34m\u001b[0m\u001b[0;34m\u001b[0m\u001b[0;34m\u001b[0m\u001b[0m\n\u001b[1;32m    181\u001b[0m                 \u001b[0mnum_rhyme_lines\u001b[0m \u001b[0;34m=\u001b[0m \u001b[0mstanza\u001b[0m\u001b[0;34m.\u001b[0m\u001b[0mcount\u001b[0m\u001b[0;34m(\u001b[0m\u001b[0mscheme_piece\u001b[0m\u001b[0;34m)\u001b[0m\u001b[0;34m\u001b[0m\u001b[0;34m\u001b[0m\u001b[0m\n\u001b[0;32m--> 182\u001b[0;31m                 \u001b[0moriginal_line\u001b[0m \u001b[0;34m=\u001b[0m \u001b[0mself\u001b[0m\u001b[0;34m.\u001b[0m\u001b[0mgenerate_line_from_concept\u001b[0m\u001b[0;34m(\u001b[0m\u001b[0mconcept\u001b[0m\u001b[0;34m)\u001b[0m\u001b[0;34m\u001b[0m\u001b[0;34m\u001b[0m\u001b[0m\n\u001b[0m\u001b[1;32m    183\u001b[0m                 \u001b[0mstanza_dict\u001b[0m\u001b[0;34m[\u001b[0m\u001b[0mscheme_piece\u001b[0m\u001b[0;34m]\u001b[0m \u001b[0;34m=\u001b[0m \u001b[0;34m[\u001b[0m\u001b[0moriginal_line\u001b[0m\u001b[0;34m]\u001b[0m\u001b[0;34m\u001b[0m\u001b[0;34m\u001b[0m\u001b[0m\n\u001b[1;32m    184\u001b[0m                 \u001b[0;32mfor\u001b[0m \u001b[0mrhyme_line\u001b[0m \u001b[0;32min\u001b[0m \u001b[0mrange\u001b[0m\u001b[0;34m(\u001b[0m\u001b[0mnum_rhyme_lines\u001b[0m \u001b[0;34m-\u001b[0m \u001b[0;36m1\u001b[0m\u001b[0;34m)\u001b[0m\u001b[0;34m:\u001b[0m\u001b[0;34m\u001b[0m\u001b[0;34m\u001b[0m\u001b[0m\n",
      "\u001b[0;32m~/projects/bardy mcbardface/poetry_server.py\u001b[0m in \u001b[0;36mgenerate_line_from_concept\u001b[0;34m(self, synonym_seq)\u001b[0m\n\u001b[1;32m    122\u001b[0m     '''\n\u001b[1;32m    123\u001b[0m     \u001b[0;32mdef\u001b[0m \u001b[0mgenerate_line_from_concept\u001b[0m\u001b[0;34m(\u001b[0m\u001b[0mself\u001b[0m\u001b[0;34m,\u001b[0m\u001b[0msynonym_seq\u001b[0m\u001b[0;34m)\u001b[0m\u001b[0;34m:\u001b[0m\u001b[0;34m\u001b[0m\u001b[0;34m\u001b[0m\u001b[0m\n\u001b[0;32m--> 124\u001b[0;31m         \u001b[0mrandom\u001b[0m\u001b[0;34m.\u001b[0m\u001b[0mshuffle\u001b[0m\u001b[0;34m(\u001b[0m\u001b[0msynonym_seq\u001b[0m\u001b[0;34m)\u001b[0m\u001b[0;34m\u001b[0m\u001b[0;34m\u001b[0m\u001b[0m\n\u001b[0m\u001b[1;32m    125\u001b[0m         \u001b[0;32mfor\u001b[0m \u001b[0msynonym\u001b[0m \u001b[0;32min\u001b[0m \u001b[0msynonym_seq\u001b[0m\u001b[0;34m:\u001b[0m\u001b[0;34m\u001b[0m\u001b[0;34m\u001b[0m\u001b[0m\n\u001b[1;32m    126\u001b[0m             \u001b[0;32mtry\u001b[0m\u001b[0;34m:\u001b[0m\u001b[0;34m\u001b[0m\u001b[0;34m\u001b[0m\u001b[0m\n",
      "\u001b[0;32m~/anaconda3/envs/bard/lib/python3.8/random.py\u001b[0m in \u001b[0;36mshuffle\u001b[0;34m(self, x, random)\u001b[0m\n\u001b[1;32m    305\u001b[0m                 \u001b[0;31m# pick an element in x[:i+1] with which to exchange x[i]\u001b[0m\u001b[0;34m\u001b[0m\u001b[0;34m\u001b[0m\u001b[0;34m\u001b[0m\u001b[0m\n\u001b[1;32m    306\u001b[0m                 \u001b[0mj\u001b[0m \u001b[0;34m=\u001b[0m \u001b[0mrandbelow\u001b[0m\u001b[0;34m(\u001b[0m\u001b[0mi\u001b[0m\u001b[0;34m+\u001b[0m\u001b[0;36m1\u001b[0m\u001b[0;34m)\u001b[0m\u001b[0;34m\u001b[0m\u001b[0;34m\u001b[0m\u001b[0m\n\u001b[0;32m--> 307\u001b[0;31m                 \u001b[0mx\u001b[0m\u001b[0;34m[\u001b[0m\u001b[0mi\u001b[0m\u001b[0;34m]\u001b[0m\u001b[0;34m,\u001b[0m \u001b[0mx\u001b[0m\u001b[0;34m[\u001b[0m\u001b[0mj\u001b[0m\u001b[0;34m]\u001b[0m \u001b[0;34m=\u001b[0m \u001b[0mx\u001b[0m\u001b[0;34m[\u001b[0m\u001b[0mj\u001b[0m\u001b[0;34m]\u001b[0m\u001b[0;34m,\u001b[0m \u001b[0mx\u001b[0m\u001b[0;34m[\u001b[0m\u001b[0mi\u001b[0m\u001b[0;34m]\u001b[0m\u001b[0;34m\u001b[0m\u001b[0;34m\u001b[0m\u001b[0m\n\u001b[0m\u001b[1;32m    308\u001b[0m         \u001b[0;32melse\u001b[0m\u001b[0;34m:\u001b[0m\u001b[0;34m\u001b[0m\u001b[0;34m\u001b[0m\u001b[0m\n\u001b[1;32m    309\u001b[0m             \u001b[0m_int\u001b[0m \u001b[0;34m=\u001b[0m \u001b[0mint\u001b[0m\u001b[0;34m\u001b[0m\u001b[0;34m\u001b[0m\u001b[0m\n",
      "\u001b[0;31mTypeError\u001b[0m: 'tuple' object does not support item assignment"
     ]
    }
   ],
   "source": [
    "# let's try using the markov models it has...\n",
    "# step 1 : come up with a list of topics\n",
    "house_things = [('house','home'),\n",
    "                ('shed',),\n",
    "                ('garden','vegetable'),\n",
    "                ('work','office'),\n",
    "                ('Joseph',), # can't do Evan :(\n",
    "                ('Emily',), # can't do Valkyrie :(\n",
    "                ('autumn','fall'),\n",
    "                ('cedar','trees')]\n",
    "\n",
    "mom_things = [('Angela',),\n",
    "              ('mother',),\n",
    "              ('love',),\n",
    "              ('dog','cat'),\n",
    "              ('house','home'),\n",
    "              ('retired',),\n",
    "              ('writing','reading'),]\n",
    "\n",
    "dad_things = [('Harold',), # can't do Howard :(\n",
    "              ('father',),\n",
    "              ('love',),\n",
    "              ('dog','cat'),\n",
    "              ('house','home'),\n",
    "              ('metal','science'),\n",
    "              ('thinking','pondering'),]\n",
    "\n",
    "print(g.concepts_to_rhyming_scheme_generate(house_things).replace(\"Joseph\",\"Evan\").replace(\"Emily\",\"Valkyrie\"))\n",
    "print(\"\\n~~~~\\n\")\n",
    "print(g.concepts_to_rhyming_scheme_generate(mom_things))\n",
    "print(\"\\n~~~~\\n\")\n",
    "print(g.concepts_to_rhyming_scheme_generate(dad_things).replace(\"Harold\",\"Howard\"))"
   ]
  },
  {
   "cell_type": "code",
   "execution_count": 18,
   "metadata": {},
   "outputs": [
    {
     "name": "stdout",
     "output_type": "stream",
     "text": [
      "Angela the old greek days\n",
      "Mother sobs above her dead lord her gaze there was a kite\n",
      "It all sprung from such a res\n",
      "“and naught remains to wish her beauty, i shall meet and remember a place of seven-gated thebes, and alight\n",
      "\n",
      "Love it, and asked,\n",
      "Dog and i, whom still\n",
      "To reach a vast\n",
      "Enamored of that hill\n",
      "\n",
      "House glowed, geranium-hued, with bricks and mortar.\n",
      "Retired from the hold;\n",
      "And all the quarter\n",
      "The wilder nymphs, lov's power could earth itself uphold\n",
      "\n",
      "Writing of the sea.\n",
      "Though only a tree\n",
      "\n",
      "\n",
      "\n",
      "~~~~\n",
      "\n",
      "Howard felt not then pursue,\n",
      "Father mourns, burning the bones didn't try\n",
      "The curio collector is so good as an april through\n",
      "As father, who can defy\n",
      "\n",
      "Love the forest's border,\n",
      "Cat out of the gods:\n",
      "Heave in wild disorder\n",
      "O god! before whom nods\n",
      "\n",
      "House is lonesome since he did high advance,\n",
      "Science profits by this familiarity\n",
      "At once then let us think of me then shall prance in salian dance\n",
      "Outside the young men and for posterity\n",
      "\n",
      "Thinking ever of patroclus. then he gazed about:\n",
      "Sick to the cliff against the snout\n",
      "\n",
      "\n"
     ]
    }
   ],
   "source": [
    "def generate_synonyms(word):"
   ]
  }
 ],
 "metadata": {
  "kernelspec": {
   "display_name": "Python 3",
   "language": "python",
   "name": "python3"
  },
  "language_info": {
   "codemirror_mode": {
    "name": "ipython",
    "version": 3
   },
   "file_extension": ".py",
   "mimetype": "text/x-python",
   "name": "python",
   "nbconvert_exporter": "python",
   "pygments_lexer": "ipython3",
   "version": "3.8.5"
  }
 },
 "nbformat": 4,
 "nbformat_minor": 2
}
